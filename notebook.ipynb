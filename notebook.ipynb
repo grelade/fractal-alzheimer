{
 "cells": [
  {
   "cell_type": "code",
   "execution_count": 2,
   "id": "10502362-38a8-463a-bcf9-c51f60a1cf5c",
   "metadata": {
    "collapsed": true,
    "jupyter": {
     "outputs_hidden": true
    }
   },
   "outputs": [
    {
     "name": "stdout",
     "output_type": "stream",
     "text": [
      "Collecting scikit-learn\n",
      "  Obtaining dependency information for scikit-learn from https://files.pythonhosted.org/packages/8f/87/5969092159207f583481ad80a03f09e2d4af1ebd197f4530ca4e906c947e/scikit_learn-1.3.1-cp311-cp311-manylinux_2_17_x86_64.manylinux2014_x86_64.whl.metadata\n",
      "  Downloading scikit_learn-1.3.1-cp311-cp311-manylinux_2_17_x86_64.manylinux2014_x86_64.whl.metadata (11 kB)\n",
      "Requirement already satisfied: numpy<2.0,>=1.17.3 in ./.venv/lib/python3.11/site-packages (from scikit-learn) (1.26.1)\n",
      "Collecting scipy>=1.5.0 (from scikit-learn)\n",
      "  Obtaining dependency information for scipy>=1.5.0 from https://files.pythonhosted.org/packages/ef/1b/7538792254aec6850657d5b940fd05fe60582af829ffe40d6c054f065f34/scipy-1.11.3-cp311-cp311-manylinux_2_17_x86_64.manylinux2014_x86_64.whl.metadata\n",
      "  Downloading scipy-1.11.3-cp311-cp311-manylinux_2_17_x86_64.manylinux2014_x86_64.whl.metadata (60 kB)\n",
      "\u001b[2K     \u001b[38;2;114;156;31m━━━━━━━━━━━━━━━━━━━━━━━━━━━━━━━━━━━━━━━━\u001b[0m \u001b[32m60.4/60.4 kB\u001b[0m \u001b[31m1.3 MB/s\u001b[0m eta \u001b[36m0:00:00\u001b[0m MB/s\u001b[0m eta \u001b[36m0:00:01\u001b[0m\n",
      "\u001b[?25hCollecting joblib>=1.1.1 (from scikit-learn)\n",
      "  Obtaining dependency information for joblib>=1.1.1 from https://files.pythonhosted.org/packages/10/40/d551139c85db202f1f384ba8bcf96aca2f329440a844f924c8a0040b6d02/joblib-1.3.2-py3-none-any.whl.metadata\n",
      "  Downloading joblib-1.3.2-py3-none-any.whl.metadata (5.4 kB)\n",
      "Collecting threadpoolctl>=2.0.0 (from scikit-learn)\n",
      "  Obtaining dependency information for threadpoolctl>=2.0.0 from https://files.pythonhosted.org/packages/81/12/fd4dea011af9d69e1cad05c75f3f7202cdcbeac9b712eea58ca779a72865/threadpoolctl-3.2.0-py3-none-any.whl.metadata\n",
      "  Downloading threadpoolctl-3.2.0-py3-none-any.whl.metadata (10.0 kB)\n",
      "Downloading scikit_learn-1.3.1-cp311-cp311-manylinux_2_17_x86_64.manylinux2014_x86_64.whl (10.9 MB)\n",
      "\u001b[2K   \u001b[38;2;114;156;31m━━━━━━━━━━━━━━━━━━━━━━━━━━━━━━━━━━━━━━━━\u001b[0m \u001b[32m10.9/10.9 MB\u001b[0m \u001b[31m10.2 MB/s\u001b[0m eta \u001b[36m0:00:00\u001b[0mm eta \u001b[36m0:00:01\u001b[0m36m0:00:01\u001b[0m\n",
      "\u001b[?25hDownloading joblib-1.3.2-py3-none-any.whl (302 kB)\n",
      "\u001b[2K   \u001b[38;2;114;156;31m━━━━━━━━━━━━━━━━━━━━━━━━━━━━━━━━━━━━━━━━\u001b[0m \u001b[32m302.2/302.2 kB\u001b[0m \u001b[31m8.2 MB/s\u001b[0m eta \u001b[36m0:00:00\u001b[0m\u001b[36m0:00:01\u001b[0m\n",
      "\u001b[?25hDownloading scipy-1.11.3-cp311-cp311-manylinux_2_17_x86_64.manylinux2014_x86_64.whl (36.4 MB)\n",
      "\u001b[2K   \u001b[38;2;114;156;31m━━━━━━━━━━━━━━━━━━━━━━━━━━━━━━━━━━━━━━━━\u001b[0m \u001b[32m36.4/36.4 MB\u001b[0m \u001b[31m8.3 MB/s\u001b[0m eta \u001b[36m0:00:00\u001b[0m0m eta \u001b[36m0:00:01\u001b[0m[36m0:00:01\u001b[0m\n",
      "\u001b[?25hDownloading threadpoolctl-3.2.0-py3-none-any.whl (15 kB)\n",
      "Installing collected packages: threadpoolctl, scipy, joblib, scikit-learn\n",
      "Successfully installed joblib-1.3.2 scikit-learn-1.3.1 scipy-1.11.3 threadpoolctl-3.2.0\n",
      "\n",
      "\u001b[1m[\u001b[0m\u001b[34;49mnotice\u001b[0m\u001b[1;39;49m]\u001b[0m\u001b[39;49m A new release of pip is available: \u001b[0m\u001b[31;49m23.2.1\u001b[0m\u001b[39;49m -> \u001b[0m\u001b[32;49m23.3\u001b[0m\n",
      "\u001b[1m[\u001b[0m\u001b[34;49mnotice\u001b[0m\u001b[1;39;49m]\u001b[0m\u001b[39;49m To update, run: \u001b[0m\u001b[32;49mpip install --upgrade pip\u001b[0m\n"
     ]
    }
   ],
   "source": [
    "!pip install scikit-learn"
   ]
  },
  {
   "cell_type": "code",
   "execution_count": 11,
   "id": "2dd3fe5b-8922-4ae1-a87e-ef70a60e4987",
   "metadata": {},
   "outputs": [],
   "source": [
    "import numpy as np\n",
    "\n",
    "from sklearn.preprocessing import StandardScaler\n",
    "import sklearn.svm\n",
    "from sklearn.pipeline import Pipeline\n",
    "from sklearn.model_selection import StratifiedKFold\n",
    "from sklearn.model_selection import GridSearchCV,RandomizedSearchCV\n",
    "from sklearn.model_selection import cross_validate\n",
    "import pickle\n",
    "import pandas as pd"
   ]
  },
  {
   "cell_type": "code",
   "execution_count": 4,
   "id": "c5f3aa6a-b43b-4e2c-94b5-a52de02b0f16",
   "metadata": {},
   "outputs": [],
   "source": [
    "verbose = True\n",
    "random_seed = 1234\n",
    "cv_param_folds = 5\n",
    "cv_select_folds = 5\n",
    "\n",
    "n_jobs = 1"
   ]
  },
  {
   "cell_type": "code",
   "execution_count": 7,
   "id": "c771f271-1d5e-492c-8e10-c21160f1640c",
   "metadata": {},
   "outputs": [],
   "source": [
    "pipeline = []\n",
    "\n",
    "pipeline.append(('scaler',StandardScaler()))\n",
    "pipeline.append(('svc',sklearn.svm.SVC(verbose=verbose)))\n",
    "\n",
    "model_pipeline = Pipeline(pipeline)"
   ]
  },
  {
   "cell_type": "code",
   "execution_count": 8,
   "id": "c60223c1-f72a-4aa3-ac4f-0e0263608db3",
   "metadata": {},
   "outputs": [],
   "source": [
    "param_grid = [{'C': 10.**np.arange(-3,3,2),\n",
    "               'gamma': 10.**np.arange(-3,1,1)}]\n",
    "\n",
    "def pipeline_param_grid(param_grid,model_name):\n",
    "    pg = []\n",
    "    for x in param_grid:\n",
    "        d = {}\n",
    "        for k,v in x.items():\n",
    "            d[model_name+'__'+k] = v\n",
    "        pg += [d]\n",
    "\n",
    "    return pg\n",
    "\n",
    "param_grid = pipeline_param_grid(param_grid,'svc')\n",
    "\n",
    "mcc = sklearn.metrics.make_scorer(sklearn.metrics.matthews_corrcoef)\n",
    "\n",
    "inner_cv = StratifiedKFold(n_splits=cv_param_folds,\n",
    "                           shuffle=True,\n",
    "                           random_state=random_seed)\n",
    "\n",
    "clf = GridSearchCV(estimator = model_pipeline,\n",
    "                param_grid = param_grid,\n",
    "                cv = inner_cv,\n",
    "                verbose = verbose,\n",
    "                scoring = dict(accuracy='accuracy',\n",
    "                                f1_macro='f1_macro',\n",
    "                                mcc=mcc),\n",
    "                refit = 'mcc')"
   ]
  },
  {
   "cell_type": "code",
   "execution_count": 12,
   "id": "c7d6fce9-ae26-445a-82ac-9c0401a51b88",
   "metadata": {},
   "outputs": [],
   "source": [
    "with open('hurst_data.pickle','rb') as fp:\n",
    "    data = pickle.load(fp)"
   ]
  },
  {
   "cell_type": "code",
   "execution_count": 16,
   "id": "c8ae9cb5-a05d-4a5f-9a45-b9e1e6b3f610",
   "metadata": {},
   "outputs": [],
   "source": [
    "df = pd.read_csv('data_labels.csv')"
   ]
  },
  {
   "cell_type": "code",
   "execution_count": 29,
   "id": "13a4dbbc-dd47-4075-aade-baaa67ed75da",
   "metadata": {},
   "outputs": [
    {
     "data": {
      "text/plain": [
       "array([0. , 0.5, nan, 1. , 2. ])"
      ]
     },
     "execution_count": 29,
     "metadata": {},
     "output_type": "execute_result"
    }
   ],
   "source": [
    "df['CDR'].unique()"
   ]
  },
  {
   "cell_type": "code",
   "execution_count": 32,
   "id": "b2f7265d-3b9c-48b1-884b-4e966d3985d0",
   "metadata": {},
   "outputs": [
    {
     "data": {
      "text/plain": [
       "0      0.0\n",
       "1      0.0\n",
       "2      0.5\n",
       "8      0.0\n",
       "9      0.0\n",
       "      ... \n",
       "411    0.5\n",
       "412    0.5\n",
       "413    0.0\n",
       "414    0.0\n",
       "415    0.0\n",
       "Name: CDR, Length: 235, dtype: float64"
      ]
     },
     "execution_count": 32,
     "metadata": {},
     "output_type": "execute_result"
    }
   ],
   "source": [
    "df['CDR'].dropna()"
   ]
  },
  {
   "cell_type": "code",
   "execution_count": 25,
   "id": "a6ea2fda-1543-4d37-8176-7be0c4c97c1e",
   "metadata": {},
   "outputs": [
    {
     "data": {
      "text/html": [
       "<div>\n",
       "<style scoped>\n",
       "    .dataframe tbody tr th:only-of-type {\n",
       "        vertical-align: middle;\n",
       "    }\n",
       "\n",
       "    .dataframe tbody tr th {\n",
       "        vertical-align: top;\n",
       "    }\n",
       "\n",
       "    .dataframe thead th {\n",
       "        text-align: right;\n",
       "    }\n",
       "</style>\n",
       "<table border=\"1\" class=\"dataframe\">\n",
       "  <thead>\n",
       "    <tr style=\"text-align: right;\">\n",
       "      <th></th>\n",
       "      <th>ID</th>\n",
       "      <th>M/F</th>\n",
       "      <th>Hand</th>\n",
       "      <th>Age</th>\n",
       "      <th>Educ</th>\n",
       "      <th>SES</th>\n",
       "      <th>MMSE</th>\n",
       "      <th>CDR</th>\n",
       "      <th>eTIV</th>\n",
       "      <th>nWBV</th>\n",
       "      <th>ASF</th>\n",
       "      <th>Delay</th>\n",
       "    </tr>\n",
       "  </thead>\n",
       "  <tbody>\n",
       "    <tr>\n",
       "      <th>43</th>\n",
       "      <td>OAS1_0047_MR1</td>\n",
       "      <td>F</td>\n",
       "      <td>R</td>\n",
       "      <td>57</td>\n",
       "      <td>NaN</td>\n",
       "      <td>NaN</td>\n",
       "      <td>NaN</td>\n",
       "      <td>NaN</td>\n",
       "      <td>1408</td>\n",
       "      <td>0.784</td>\n",
       "      <td>1.247</td>\n",
       "      <td>NaN</td>\n",
       "    </tr>\n",
       "    <tr>\n",
       "      <th>90</th>\n",
       "      <td>OAS1_0097_MR1</td>\n",
       "      <td>M</td>\n",
       "      <td>R</td>\n",
       "      <td>23</td>\n",
       "      <td>NaN</td>\n",
       "      <td>NaN</td>\n",
       "      <td>NaN</td>\n",
       "      <td>NaN</td>\n",
       "      <td>1568</td>\n",
       "      <td>0.816</td>\n",
       "      <td>1.119</td>\n",
       "      <td>NaN</td>\n",
       "    </tr>\n",
       "    <tr>\n",
       "      <th>120</th>\n",
       "      <td>OAS1_0130_MR1</td>\n",
       "      <td>M</td>\n",
       "      <td>R</td>\n",
       "      <td>68</td>\n",
       "      <td>3.0</td>\n",
       "      <td>3.0</td>\n",
       "      <td>26.0</td>\n",
       "      <td>0.0</td>\n",
       "      <td>1444</td>\n",
       "      <td>0.789</td>\n",
       "      <td>1.216</td>\n",
       "      <td>NaN</td>\n",
       "    </tr>\n",
       "    <tr>\n",
       "      <th>123</th>\n",
       "      <td>OAS1_0133_MR1</td>\n",
       "      <td>F</td>\n",
       "      <td>R</td>\n",
       "      <td>65</td>\n",
       "      <td>5.0</td>\n",
       "      <td>2.0</td>\n",
       "      <td>30.0</td>\n",
       "      <td>0.0</td>\n",
       "      <td>1277</td>\n",
       "      <td>0.814</td>\n",
       "      <td>1.374</td>\n",
       "      <td>NaN</td>\n",
       "    </tr>\n",
       "    <tr>\n",
       "      <th>195</th>\n",
       "      <td>OAS1_0213_MR1</td>\n",
       "      <td>F</td>\n",
       "      <td>R</td>\n",
       "      <td>48</td>\n",
       "      <td>NaN</td>\n",
       "      <td>NaN</td>\n",
       "      <td>NaN</td>\n",
       "      <td>NaN</td>\n",
       "      <td>1332</td>\n",
       "      <td>0.801</td>\n",
       "      <td>1.318</td>\n",
       "      <td>NaN</td>\n",
       "    </tr>\n",
       "    <tr>\n",
       "      <th>198</th>\n",
       "      <td>OAS1_0217_MR1</td>\n",
       "      <td>F</td>\n",
       "      <td>R</td>\n",
       "      <td>78</td>\n",
       "      <td>4.0</td>\n",
       "      <td>3.0</td>\n",
       "      <td>27.0</td>\n",
       "      <td>0.5</td>\n",
       "      <td>1393</td>\n",
       "      <td>0.692</td>\n",
       "      <td>1.260</td>\n",
       "      <td>NaN</td>\n",
       "    </tr>\n",
       "    <tr>\n",
       "      <th>244</th>\n",
       "      <td>OAS1_0271_MR1</td>\n",
       "      <td>F</td>\n",
       "      <td>R</td>\n",
       "      <td>89</td>\n",
       "      <td>2.0</td>\n",
       "      <td>4.0</td>\n",
       "      <td>27.0</td>\n",
       "      <td>0.0</td>\n",
       "      <td>1329</td>\n",
       "      <td>0.740</td>\n",
       "      <td>1.320</td>\n",
       "      <td>NaN</td>\n",
       "    </tr>\n",
       "    <tr>\n",
       "      <th>259</th>\n",
       "      <td>OAS1_0287_MR1</td>\n",
       "      <td>F</td>\n",
       "      <td>R</td>\n",
       "      <td>78</td>\n",
       "      <td>3.0</td>\n",
       "      <td>3.0</td>\n",
       "      <td>21.0</td>\n",
       "      <td>0.5</td>\n",
       "      <td>1194</td>\n",
       "      <td>0.694</td>\n",
       "      <td>1.470</td>\n",
       "      <td>NaN</td>\n",
       "    </tr>\n",
       "    <tr>\n",
       "      <th>326</th>\n",
       "      <td>OAS1_0361_MR1</td>\n",
       "      <td>M</td>\n",
       "      <td>R</td>\n",
       "      <td>20</td>\n",
       "      <td>NaN</td>\n",
       "      <td>NaN</td>\n",
       "      <td>NaN</td>\n",
       "      <td>NaN</td>\n",
       "      <td>1485</td>\n",
       "      <td>0.842</td>\n",
       "      <td>1.182</td>\n",
       "      <td>NaN</td>\n",
       "    </tr>\n",
       "    <tr>\n",
       "      <th>370</th>\n",
       "      <td>OAS1_0408_MR1</td>\n",
       "      <td>F</td>\n",
       "      <td>R</td>\n",
       "      <td>22</td>\n",
       "      <td>NaN</td>\n",
       "      <td>NaN</td>\n",
       "      <td>NaN</td>\n",
       "      <td>NaN</td>\n",
       "      <td>1518</td>\n",
       "      <td>0.861</td>\n",
       "      <td>1.156</td>\n",
       "      <td>NaN</td>\n",
       "    </tr>\n",
       "    <tr>\n",
       "      <th>383</th>\n",
       "      <td>OAS1_0423_MR1</td>\n",
       "      <td>M</td>\n",
       "      <td>R</td>\n",
       "      <td>75</td>\n",
       "      <td>2.0</td>\n",
       "      <td>4.0</td>\n",
       "      <td>28.0</td>\n",
       "      <td>0.0</td>\n",
       "      <td>1511</td>\n",
       "      <td>0.749</td>\n",
       "      <td>1.162</td>\n",
       "      <td>NaN</td>\n",
       "    </tr>\n",
       "  </tbody>\n",
       "</table>\n",
       "</div>"
      ],
      "text/plain": [
       "                ID M/F Hand  Age  Educ  SES  MMSE  CDR  eTIV   nWBV    ASF  \\\n",
       "43   OAS1_0047_MR1   F    R   57   NaN  NaN   NaN  NaN  1408  0.784  1.247   \n",
       "90   OAS1_0097_MR1   M    R   23   NaN  NaN   NaN  NaN  1568  0.816  1.119   \n",
       "120  OAS1_0130_MR1   M    R   68   3.0  3.0  26.0  0.0  1444  0.789  1.216   \n",
       "123  OAS1_0133_MR1   F    R   65   5.0  2.0  30.0  0.0  1277  0.814  1.374   \n",
       "195  OAS1_0213_MR1   F    R   48   NaN  NaN   NaN  NaN  1332  0.801  1.318   \n",
       "198  OAS1_0217_MR1   F    R   78   4.0  3.0  27.0  0.5  1393  0.692  1.260   \n",
       "244  OAS1_0271_MR1   F    R   89   2.0  4.0  27.0  0.0  1329  0.740  1.320   \n",
       "259  OAS1_0287_MR1   F    R   78   3.0  3.0  21.0  0.5  1194  0.694  1.470   \n",
       "326  OAS1_0361_MR1   M    R   20   NaN  NaN   NaN  NaN  1485  0.842  1.182   \n",
       "370  OAS1_0408_MR1   F    R   22   NaN  NaN   NaN  NaN  1518  0.861  1.156   \n",
       "383  OAS1_0423_MR1   M    R   75   2.0  4.0  28.0  0.0  1511  0.749  1.162   \n",
       "\n",
       "     Delay  \n",
       "43     NaN  \n",
       "90     NaN  \n",
       "120    NaN  \n",
       "123    NaN  \n",
       "195    NaN  \n",
       "198    NaN  \n",
       "244    NaN  \n",
       "259    NaN  \n",
       "326    NaN  \n",
       "370    NaN  \n",
       "383    NaN  "
      ]
     },
     "execution_count": 25,
     "metadata": {},
     "output_type": "execute_result"
    }
   ],
   "source": [
    "df[df.loc[:,\"ID\"].isin(list(data.keys()))]"
   ]
  },
  {
   "cell_type": "code",
   "execution_count": 15,
   "id": "2093c53d-7980-40ab-94ec-6a8b1c1911f5",
   "metadata": {},
   "outputs": [
    {
     "data": {
      "text/plain": [
       "['OAS1_0047_MR1',\n",
       " 'OAS1_0097_MR1',\n",
       " 'OAS1_0217_MR1',\n",
       " 'OAS1_0271_MR1',\n",
       " 'OAS1_0423_MR1',\n",
       " 'OAS1_0361_MR1',\n",
       " 'OAS1_0287_MR1',\n",
       " 'OAS1_0130_MR1',\n",
       " 'OAS1_0133_MR1',\n",
       " 'OAS1_0213_MR1',\n",
       " 'OAS1_0408_MR1']"
      ]
     },
     "execution_count": 15,
     "metadata": {},
     "output_type": "execute_result"
    }
   ],
   "source": [
    "list(data.keys())"
   ]
  },
  {
   "cell_type": "code",
   "execution_count": null,
   "id": "8c834326-7f8e-49f7-a9f0-9dc4ce0d8ad3",
   "metadata": {},
   "outputs": [],
   "source": []
  },
  {
   "cell_type": "code",
   "execution_count": null,
   "id": "fb20fa6b-61d3-49a9-b4f1-8602d630c75f",
   "metadata": {},
   "outputs": [],
   "source": [
    "X = "
   ]
  },
  {
   "cell_type": "code",
   "execution_count": null,
   "id": "5829a449-24f1-4199-af0e-3436e3ce19f9",
   "metadata": {},
   "outputs": [],
   "source": [
    "outer_cv = StratifiedKFold(n_splits=cv_select_folds,\n",
    "                           shuffle=True,\n",
    "                           random_state=random_seed)\n",
    "\n",
    "cv_select_results = cross_validate(estimator = clf,\n",
    "                                       X = X,\n",
    "                                       y = y,\n",
    "                                       cv = outer_cv,\n",
    "                                       n_jobs = n_jobs,\n",
    "                                       verbose = verbose,\n",
    "                                       return_estimator = True,\n",
    "                                       return_train_score = True,\n",
    "                                       scoring = dict(accuracy='accuracy',\n",
    "                                                      f1_macro='f1_macro',\n",
    "                                                      mcc=mcc))\n"
   ]
  },
  {
   "cell_type": "code",
   "execution_count": null,
   "id": "7f9367a6-7204-4007-b536-cf22eb7cc081",
   "metadata": {},
   "outputs": [],
   "source": [
    "cv_select_results"
   ]
  },
  {
   "cell_type": "code",
   "execution_count": null,
   "id": "d4fabc7c-840b-4646-8a8d-5f4e91885140",
   "metadata": {},
   "outputs": [],
   "source": [
    "best_model = clf.fit(X,y)"
   ]
  }
 ],
 "metadata": {
  "kernelspec": {
   "display_name": "Python 3 (ipykernel)",
   "language": "python",
   "name": "python3"
  },
  "language_info": {
   "codemirror_mode": {
    "name": "ipython",
    "version": 3
   },
   "file_extension": ".py",
   "mimetype": "text/x-python",
   "name": "python",
   "nbconvert_exporter": "python",
   "pygments_lexer": "ipython3",
   "version": "3.11.5"
  }
 },
 "nbformat": 4,
 "nbformat_minor": 5
}
