{
 "cells": [
  {
   "cell_type": "code",
   "execution_count": 2,
   "id": "d6db7c7a-f333-401d-b1d8-a2fe551f5643",
   "metadata": {
    "tags": []
   },
   "outputs": [],
   "source": [
    "import re\n",
    "import pandas as pd"
   ]
  },
  {
   "cell_type": "code",
   "execution_count": 13,
   "id": "f79ddc8a-c899-48db-8533-acf78f209990",
   "metadata": {
    "tags": []
   },
   "outputs": [],
   "source": [
    "with open('results.txt','r') as fp:\n",
    "    results = fp.read()\n",
    "    \n",
    "results2 = [x.split(';') for x in re.sub('(.+) (.+) \\| ','name = \\\\1 \\\\2; ',results).split('\\n')]    \n",
    "results3 = [{y.split(' = ')[0].lstrip(' '): y.split(' = ')[1] for y in x} for x in results2[:-1]]\n",
    "\n",
    "df = pd.DataFrame(results3)\n",
    "df[['test_acc','test_mcc','test_f1','test_mcc2','perm_mcc']] = df[['test_acc','test_mcc','test_f1','test_mcc2','perm_mcc']].astype('float')\n",
    "df[['sampling_method','model']] = pd.DataFrame(df.name.str.split(' ').to_list(),columns=['sampling_method','model'])\n",
    "df['mcc_improvement'] = df['test_mcc'] - df['perm_mcc']"
   ]
  },
  {
   "cell_type": "code",
   "execution_count": 22,
   "id": "b1b1b1fa-267d-4105-ab0f-f4c264b74f53",
   "metadata": {
    "tags": []
   },
   "outputs": [],
   "source": [
    "out = df.sort_values('mcc_improvement',ascending=False)[['sampling_method','model','test_acc','test_f1','test_mcc','perm_mcc']].head().reset_index(drop=True)"
   ]
  },
  {
   "cell_type": "code",
   "execution_count": 27,
   "id": "49b425f4-7dc1-43a4-bc58-361c25fdd606",
   "metadata": {
    "tags": []
   },
   "outputs": [
    {
     "data": {
      "text/html": [
       "<div>\n",
       "<style scoped>\n",
       "    .dataframe tbody tr th:only-of-type {\n",
       "        vertical-align: middle;\n",
       "    }\n",
       "\n",
       "    .dataframe tbody tr th {\n",
       "        vertical-align: top;\n",
       "    }\n",
       "\n",
       "    .dataframe thead th {\n",
       "        text-align: right;\n",
       "    }\n",
       "</style>\n",
       "<table border=\"1\" class=\"dataframe\">\n",
       "  <thead>\n",
       "    <tr style=\"text-align: right;\">\n",
       "      <th></th>\n",
       "      <th>sampling_method</th>\n",
       "      <th>model</th>\n",
       "      <th>test_acc</th>\n",
       "      <th>test_f1</th>\n",
       "      <th>test_mcc</th>\n",
       "      <th>perm_mcc</th>\n",
       "    </tr>\n",
       "  </thead>\n",
       "  <tbody>\n",
       "    <tr>\n",
       "      <th>0</th>\n",
       "      <td>over_smote</td>\n",
       "      <td>lgbm</td>\n",
       "      <td>0.545</td>\n",
       "      <td>0.397</td>\n",
       "      <td>0.149</td>\n",
       "      <td>0.010</td>\n",
       "    </tr>\n",
       "    <tr>\n",
       "      <th>1</th>\n",
       "      <td>none</td>\n",
       "      <td>svc</td>\n",
       "      <td>0.579</td>\n",
       "      <td>0.370</td>\n",
       "      <td>0.140</td>\n",
       "      <td>0.030</td>\n",
       "    </tr>\n",
       "    <tr>\n",
       "      <th>2</th>\n",
       "      <td>over_smote</td>\n",
       "      <td>svc</td>\n",
       "      <td>0.541</td>\n",
       "      <td>0.369</td>\n",
       "      <td>0.106</td>\n",
       "      <td>0.030</td>\n",
       "    </tr>\n",
       "    <tr>\n",
       "      <th>3</th>\n",
       "      <td>combine_smotenn</td>\n",
       "      <td>knn</td>\n",
       "      <td>0.253</td>\n",
       "      <td>0.228</td>\n",
       "      <td>0.081</td>\n",
       "      <td>0.020</td>\n",
       "    </tr>\n",
       "    <tr>\n",
       "      <th>4</th>\n",
       "      <td>over_random</td>\n",
       "      <td>knn</td>\n",
       "      <td>0.464</td>\n",
       "      <td>0.369</td>\n",
       "      <td>0.099</td>\n",
       "      <td>0.069</td>\n",
       "    </tr>\n",
       "  </tbody>\n",
       "</table>\n",
       "</div>"
      ],
      "text/plain": [
       "   sampling_method model  test_acc  test_f1  test_mcc  perm_mcc\n",
       "0       over_smote  lgbm     0.545    0.397     0.149     0.010\n",
       "1             none   svc     0.579    0.370     0.140     0.030\n",
       "2       over_smote   svc     0.541    0.369     0.106     0.030\n",
       "3  combine_smotenn   knn     0.253    0.228     0.081     0.020\n",
       "4      over_random   knn     0.464    0.369     0.099     0.069"
      ]
     },
     "execution_count": 27,
     "metadata": {},
     "output_type": "execute_result"
    }
   ],
   "source": [
    "out"
   ]
  },
  {
   "cell_type": "code",
   "execution_count": 26,
   "id": "754d15f1-2232-47db-92af-780600b4a44e",
   "metadata": {
    "tags": []
   },
   "outputs": [],
   "source": [
    "out.to_markdown('results.md')"
   ]
  }
 ],
 "metadata": {
  "kernelspec": {
   "display_name": "Python 3 (ipykernel)",
   "language": "python",
   "name": "python3"
  },
  "language_info": {
   "codemirror_mode": {
    "name": "ipython",
    "version": 3
   },
   "file_extension": ".py",
   "mimetype": "text/x-python",
   "name": "python",
   "nbconvert_exporter": "python",
   "pygments_lexer": "ipython3",
   "version": "3.11.5"
  }
 },
 "nbformat": 4,
 "nbformat_minor": 5
}
